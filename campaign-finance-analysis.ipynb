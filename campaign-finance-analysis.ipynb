{
 "cells": [
  {
   "cell_type": "code",
   "execution_count": 1,
   "metadata": {},
   "outputs": [],
   "source": [
    "#importing in libraries\n",
    "\n",
    "import numpy as np\n",
    "import pandas as pd \n",
    "import matplotlib.pyplot as plt\n",
    "import seaborn as sn\n"
   ]
  },
  {
   "cell_type": "code",
   "execution_count": 2,
   "metadata": {},
   "outputs": [],
   "source": [
    "#importing dataset to base dataframe in pandas\n",
    "df = pd.read_csv('CandidateSummaryAction1.csv')"
   ]
  },
  {
   "cell_type": "code",
   "execution_count": 3,
   "metadata": {},
   "outputs": [],
   "source": [
    "cont = df['net_con']\n",
    "cash = df['cas_on_han_beg_of_per']\n",
    "nu_con = cont.isnull().sum()\n",
    "nu_cash = cash.isnull().sum()\n"
   ]
  },
  {
   "cell_type": "code",
   "execution_count": 4,
   "metadata": {},
   "outputs": [
    {
     "data": {
      "text/html": [
       "<div>\n",
       "<style scoped>\n",
       "    .dataframe tbody tr th:only-of-type {\n",
       "        vertical-align: middle;\n",
       "    }\n",
       "\n",
       "    .dataframe tbody tr th {\n",
       "        vertical-align: top;\n",
       "    }\n",
       "\n",
       "    .dataframe thead th {\n",
       "        text-align: right;\n",
       "    }\n",
       "</style>\n",
       "<table border=\"1\" class=\"dataframe\">\n",
       "  <thead>\n",
       "    <tr style=\"text-align: right;\">\n",
       "      <th></th>\n",
       "      <th>can_id</th>\n",
       "      <th>can_nam</th>\n",
       "      <th>can_off</th>\n",
       "      <th>can_off_sta</th>\n",
       "      <th>can_off_dis</th>\n",
       "      <th>can_par_aff</th>\n",
       "      <th>can_inc_cha_ope_sea</th>\n",
       "      <th>can_str1</th>\n",
       "      <th>can_str2</th>\n",
       "      <th>can_cit</th>\n",
       "      <th>...</th>\n",
       "      <th>cas_on_han_beg_of_per</th>\n",
       "      <th>cas_on_han_clo_of_per</th>\n",
       "      <th>net_con</th>\n",
       "      <th>net_ope_exp</th>\n",
       "      <th>deb_owe_by_com</th>\n",
       "      <th>deb_owe_to_com</th>\n",
       "      <th>cov_sta_dat</th>\n",
       "      <th>cov_end_dat</th>\n",
       "      <th>winner</th>\n",
       "      <th>votes</th>\n",
       "    </tr>\n",
       "  </thead>\n",
       "  <tbody>\n",
       "    <tr>\n",
       "      <th>0</th>\n",
       "      <td>H2GA12121</td>\n",
       "      <td>ALLEN, RICHARD W</td>\n",
       "      <td>H</td>\n",
       "      <td>GA</td>\n",
       "      <td>12.0</td>\n",
       "      <td>REP</td>\n",
       "      <td>INCUMBENT</td>\n",
       "      <td>2237 PICKENS RD</td>\n",
       "      <td>NaN</td>\n",
       "      <td>AUGUSTA</td>\n",
       "      <td>...</td>\n",
       "      <td>$60,109.57</td>\n",
       "      <td>$175,613.35</td>\n",
       "      <td>$1,074,949.50</td>\n",
       "      <td>$907,156.21</td>\n",
       "      <td>$1,125,000.00</td>\n",
       "      <td>NaN</td>\n",
       "      <td>1/1/2015</td>\n",
       "      <td>10/19/2016</td>\n",
       "      <td>Y</td>\n",
       "      <td>158708.0</td>\n",
       "    </tr>\n",
       "    <tr>\n",
       "      <th>1</th>\n",
       "      <td>H6PA02171</td>\n",
       "      <td>EVANS, DWIGHT</td>\n",
       "      <td>H</td>\n",
       "      <td>PA</td>\n",
       "      <td>2.0</td>\n",
       "      <td>DEM</td>\n",
       "      <td>CHALLENGER</td>\n",
       "      <td>PO BOX 6578</td>\n",
       "      <td>NaN</td>\n",
       "      <td>PHILADELPHIA</td>\n",
       "      <td>...</td>\n",
       "      <td>NaN</td>\n",
       "      <td>$105,687.23</td>\n",
       "      <td>$1,406,719.06</td>\n",
       "      <td>$1,298,831.83</td>\n",
       "      <td>NaN</td>\n",
       "      <td>NaN</td>\n",
       "      <td>11/2/2015</td>\n",
       "      <td>10/19/2016</td>\n",
       "      <td>Y</td>\n",
       "      <td>310770.0</td>\n",
       "    </tr>\n",
       "  </tbody>\n",
       "</table>\n",
       "<p>2 rows × 51 columns</p>\n",
       "</div>"
      ],
      "text/plain": [
       "      can_id           can_nam can_off can_off_sta  can_off_dis can_par_aff  \\\n",
       "0  H2GA12121  ALLEN, RICHARD W       H          GA         12.0         REP   \n",
       "1  H6PA02171     EVANS, DWIGHT       H          PA          2.0         DEM   \n",
       "\n",
       "  can_inc_cha_ope_sea         can_str1 can_str2       can_cit  ...  \\\n",
       "0           INCUMBENT  2237 PICKENS RD      NaN       AUGUSTA  ...   \n",
       "1          CHALLENGER      PO BOX 6578      NaN  PHILADELPHIA  ...   \n",
       "\n",
       "  cas_on_han_beg_of_per  cas_on_han_clo_of_per         net_con  \\\n",
       "0           $60,109.57            $175,613.35   $1,074,949.50    \n",
       "1                   NaN           $105,687.23   $1,406,719.06    \n",
       "\n",
       "      net_ope_exp  deb_owe_by_com deb_owe_to_com cov_sta_dat cov_end_dat  \\\n",
       "0    $907,156.21   $1,125,000.00             NaN    1/1/2015  10/19/2016   \n",
       "1  $1,298,831.83              NaN            NaN   11/2/2015  10/19/2016   \n",
       "\n",
       "  winner     votes  \n",
       "0      Y  158708.0  \n",
       "1      Y  310770.0  \n",
       "\n",
       "[2 rows x 51 columns]"
      ]
     },
     "execution_count": 4,
     "metadata": {},
     "output_type": "execute_result"
    }
   ],
   "source": [
    "#quick overview\n",
    "df.head(2)"
   ]
  },
  {
   "cell_type": "code",
   "execution_count": 5,
   "metadata": {},
   "outputs": [
    {
     "name": "stdout",
     "output_type": "stream",
     "text": [
      "<class 'pandas.core.frame.DataFrame'>\n",
      "RangeIndex: 1814 entries, 0 to 1813\n",
      "Data columns (total 51 columns):\n",
      "can_id                   1814 non-null object\n",
      "can_nam                  1814 non-null object\n",
      "can_off                  1814 non-null object\n",
      "can_off_sta              1814 non-null object\n",
      "can_off_dis              1812 non-null float64\n",
      "can_par_aff              1813 non-null object\n",
      "can_inc_cha_ope_sea      1812 non-null object\n",
      "can_str1                 1789 non-null object\n",
      "can_str2                 122 non-null object\n",
      "can_cit                  1813 non-null object\n",
      "can_sta                  1806 non-null object\n",
      "can_zip                  1789 non-null float64\n",
      "ind_ite_con              1570 non-null object\n",
      "ind_uni_con              1538 non-null object\n",
      "ind_con                  1616 non-null object\n",
      "par_com_con              382 non-null object\n",
      "oth_com_con              1011 non-null object\n",
      "can_con                  675 non-null object\n",
      "tot_con                  1695 non-null object\n",
      "tra_fro_oth_aut_com      261 non-null object\n",
      "can_loa                  640 non-null object\n",
      "oth_loa                  67 non-null object\n",
      "tot_loa                  653 non-null object\n",
      "off_to_ope_exp           763 non-null object\n",
      "off_to_fun               4 non-null object\n",
      "off_to_leg_acc           1 non-null object\n",
      "oth_rec                  534 non-null object\n",
      "tot_rec                  1721 non-null object\n",
      "ope_exp                  1717 non-null object\n",
      "exe_leg_acc_dis          6 non-null object\n",
      "fun_dis                  15 non-null object\n",
      "tra_to_oth_aut_com       153 non-null object\n",
      "can_loa_rep              294 non-null object\n",
      "oth_loa_rep              33 non-null object\n",
      "tot_loa_rep              306 non-null object\n",
      "ind_ref                  831 non-null object\n",
      "par_com_ref              24 non-null object\n",
      "oth_com_ref              362 non-null object\n",
      "tot_con_ref              872 non-null object\n",
      "oth_dis                  795 non-null object\n",
      "tot_dis                  1730 non-null object\n",
      "cas_on_han_beg_of_per    700 non-null object\n",
      "cas_on_han_clo_of_per    1434 non-null object\n",
      "net_con                  1643 non-null object\n",
      "net_ope_exp              1665 non-null object\n",
      "deb_owe_by_com           732 non-null object\n",
      "deb_owe_to_com           23 non-null object\n",
      "cov_sta_dat              1814 non-null object\n",
      "cov_end_dat              1814 non-null object\n",
      "winner                   471 non-null object\n",
      "votes                    379 non-null float64\n",
      "dtypes: float64(3), object(48)\n",
      "memory usage: 722.8+ KB\n"
     ]
    }
   ],
   "source": [
    "df.info()\n"
   ]
  },
  {
   "cell_type": "code",
   "execution_count": 6,
   "metadata": {},
   "outputs": [
    {
     "data": {
      "text/plain": [
       "Index(['can_id', 'can_nam', 'can_off', 'can_off_sta', 'can_off_dis',\n",
       "       'can_par_aff', 'can_inc_cha_ope_sea', 'can_str1', 'can_str2', 'can_cit',\n",
       "       'can_sta', 'can_zip', 'ind_ite_con', 'ind_uni_con', 'ind_con',\n",
       "       'par_com_con', 'oth_com_con', 'can_con', 'tot_con',\n",
       "       'tra_fro_oth_aut_com', 'can_loa', 'oth_loa', 'tot_loa',\n",
       "       'off_to_ope_exp', 'off_to_fun', 'off_to_leg_acc', 'oth_rec', 'tot_rec',\n",
       "       'ope_exp', 'exe_leg_acc_dis', 'fun_dis', 'tra_to_oth_aut_com',\n",
       "       'can_loa_rep', 'oth_loa_rep', 'tot_loa_rep', 'ind_ref', 'par_com_ref',\n",
       "       'oth_com_ref', 'tot_con_ref', 'oth_dis', 'tot_dis',\n",
       "       'cas_on_han_beg_of_per', 'cas_on_han_clo_of_per', 'net_con',\n",
       "       'net_ope_exp', 'deb_owe_by_com', 'deb_owe_to_com', 'cov_sta_dat',\n",
       "       'cov_end_dat', 'winner', 'votes'],\n",
       "      dtype='object')"
      ]
     },
     "execution_count": 6,
     "metadata": {},
     "output_type": "execute_result"
    }
   ],
   "source": [
    "df.columns"
   ]
  },
  {
   "cell_type": "code",
   "execution_count": 7,
   "metadata": {},
   "outputs": [
    {
     "data": {
      "text/plain": [
       "Index(['can_id', 'can_off', 'can_off_sta', 'can_off_dis', 'can_par_aff',\n",
       "       'can_inc_cha_ope_sea', 'ind_ite_con', 'ind_uni_con', 'ind_con',\n",
       "       'par_com_con', 'oth_com_con', 'can_con', 'tot_con',\n",
       "       'tra_fro_oth_aut_com', 'can_loa', 'oth_loa', 'tot_loa',\n",
       "       'off_to_ope_exp', 'off_to_fun', 'off_to_leg_acc', 'oth_rec', 'tot_rec',\n",
       "       'ope_exp', 'exe_leg_acc_dis', 'fun_dis', 'tra_to_oth_aut_com',\n",
       "       'can_loa_rep', 'oth_loa_rep', 'tot_loa_rep', 'ind_ref', 'par_com_ref',\n",
       "       'oth_com_ref', 'tot_con_ref', 'oth_dis', 'tot_dis',\n",
       "       'cas_on_han_beg_of_per', 'cas_on_han_clo_of_per', 'net_con',\n",
       "       'net_ope_exp', 'deb_owe_by_com', 'deb_owe_to_com', 'cov_sta_dat',\n",
       "       'cov_end_dat', 'winner', 'votes'],\n",
       "      dtype='object')"
      ]
     },
     "execution_count": 7,
     "metadata": {},
     "output_type": "execute_result"
    }
   ],
   "source": [
    "#Dropping name and mailing address information.\n",
    "col = ['can_nam', 'can_str1', 'can_str2', 'can_cit', 'can_sta', 'can_zip']\n",
    "\n",
    "df.drop(col, axis=1, inplace=True)\n",
    "\n",
    "df.columns"
   ]
  },
  {
   "cell_type": "code",
   "execution_count": 8,
   "metadata": {},
   "outputs": [],
   "source": [
    "#clean up - converts money values to 'float' as a string to be converted in dtype later.\n",
    "df['tot_dis'] = df['net_ope_exp'].str.replace(\"$\",\"\").str.replace(\",\",\"\").str.replace(\"(\",\"-\").str.replace(\")\",\"\")\n",
    "df['net_ope_exp'] = df['net_ope_exp'].str.replace(\"$\",\"\").str.replace(\",\",\"\").str.replace(\"(\",\"-\").str.replace(\")\",\"\")\n",
    "df['net_con'] = df['net_con'].str.replace(\"$\",\"\").str.replace(\",\",\"\").str.replace(\"(\",\"-\").str.replace(\")\",\"\")\n",
    "df['cas_on_han_beg_of_per']= df['cas_on_han_beg_of_per'].str.replace(\"$\",\"\").str.replace(\",\",\"\").str.replace(\"(\",\"-\").str.replace(\")\",\"\")\n",
    "df['cas_on_han_clo_of_per']= df['cas_on_han_clo_of_per'].str.replace(\"$\",\"\").str.replace(\",\",\"\").str.replace(\"(\",\"-\").str.replace(\")\",\"\")\n",
    "df['tot_loa']= df['tot_loa'].str.replace(\"$\",\"\").str.replace(\",\",\"\").str.replace(\"(\",\"-\").str.replace(\")\",\"\")\n",
    "df['can_loa'] = df['can_loa'].str.replace(\"$\",\"\").str.replace(\",\",\"\").str.replace(\"(\",\"-\").str.replace(\")\",\"\")\n",
    "df['ind_ite_con']=df['ind_ite_con'].str.replace(\"$\",\"\").str.replace(\",\",\"\").str.replace(\"(\",\"-\").str.replace(\")\",\"\")\n",
    "df['ind_uni_con']=df['ind_uni_con'].str.replace(\"$\",\"\").str.replace(\",\",\"\").str.replace(\"(\",\"-\").str.replace(\")\",\"\")\n",
    "df['ind_con']=df['ind_con'].str.replace(\"$\",\"\").str.replace(\",\",\"\").str.replace(\"(\",\"-\").str.replace(\")\",\"\")"
   ]
  },
  {
   "cell_type": "code",
   "execution_count": 9,
   "metadata": {},
   "outputs": [],
   "source": [
    "#checking - still same null value sum\n",
    "nu_con_2 = cont.isnull().sum()"
   ]
  },
  {
   "cell_type": "code",
   "execution_count": 10,
   "metadata": {},
   "outputs": [],
   "source": [
    "nu_cash_2 = cash.isnull().sum()"
   ]
  },
  {
   "cell_type": "code",
   "execution_count": 11,
   "metadata": {},
   "outputs": [],
   "source": [
    "#drop all rows where contributions or cash on hand are null\n",
    "df = df.dropna(subset = ['net_con'])\n",
    "df = df.dropna(subset = ['cas_on_han_beg_of_per'])"
   ]
  },
  {
   "cell_type": "code",
   "execution_count": 12,
   "metadata": {},
   "outputs": [
    {
     "data": {
      "text/html": [
       "<div>\n",
       "<style scoped>\n",
       "    .dataframe tbody tr th:only-of-type {\n",
       "        vertical-align: middle;\n",
       "    }\n",
       "\n",
       "    .dataframe tbody tr th {\n",
       "        vertical-align: top;\n",
       "    }\n",
       "\n",
       "    .dataframe thead th {\n",
       "        text-align: right;\n",
       "    }\n",
       "</style>\n",
       "<table border=\"1\" class=\"dataframe\">\n",
       "  <thead>\n",
       "    <tr style=\"text-align: right;\">\n",
       "      <th></th>\n",
       "      <th>can_id</th>\n",
       "      <th>can_off</th>\n",
       "      <th>can_off_sta</th>\n",
       "      <th>can_off_dis</th>\n",
       "      <th>can_par_aff</th>\n",
       "      <th>can_inc_cha_ope_sea</th>\n",
       "      <th>ind_ite_con</th>\n",
       "      <th>ind_uni_con</th>\n",
       "      <th>ind_con</th>\n",
       "      <th>par_com_con</th>\n",
       "      <th>...</th>\n",
       "      <th>cas_on_han_beg_of_per</th>\n",
       "      <th>cas_on_han_clo_of_per</th>\n",
       "      <th>net_con</th>\n",
       "      <th>net_ope_exp</th>\n",
       "      <th>deb_owe_by_com</th>\n",
       "      <th>deb_owe_to_com</th>\n",
       "      <th>cov_sta_dat</th>\n",
       "      <th>cov_end_dat</th>\n",
       "      <th>winner</th>\n",
       "      <th>votes</th>\n",
       "    </tr>\n",
       "  </thead>\n",
       "  <tbody>\n",
       "    <tr>\n",
       "      <th>0</th>\n",
       "      <td>H2GA12121</td>\n",
       "      <td>H</td>\n",
       "      <td>GA</td>\n",
       "      <td>12.0</td>\n",
       "      <td>REP</td>\n",
       "      <td>INCUMBENT</td>\n",
       "      <td>554305.00</td>\n",
       "      <td>46969.50</td>\n",
       "      <td>601274.50</td>\n",
       "      <td>NaN</td>\n",
       "      <td>...</td>\n",
       "      <td>60109.57</td>\n",
       "      <td>175613.35</td>\n",
       "      <td>1074949.50</td>\n",
       "      <td>907156.21</td>\n",
       "      <td>$1,125,000.00</td>\n",
       "      <td>NaN</td>\n",
       "      <td>1/1/2015</td>\n",
       "      <td>10/19/2016</td>\n",
       "      <td>1</td>\n",
       "      <td>158708.0</td>\n",
       "    </tr>\n",
       "    <tr>\n",
       "      <th>3</th>\n",
       "      <td>H4MT01041</td>\n",
       "      <td>H</td>\n",
       "      <td>MT</td>\n",
       "      <td>0.0</td>\n",
       "      <td>REP</td>\n",
       "      <td>INCUMBENT</td>\n",
       "      <td>2479616.45</td>\n",
       "      <td>1837715.13</td>\n",
       "      <td>4317331.58</td>\n",
       "      <td>$3,545.32</td>\n",
       "      <td>...</td>\n",
       "      <td>83815.78</td>\n",
       "      <td>399122.61</td>\n",
       "      <td>4938943.74</td>\n",
       "      <td>5055942.15</td>\n",
       "      <td>NaN</td>\n",
       "      <td>NaN</td>\n",
       "      <td>1/1/2015</td>\n",
       "      <td>10/19/2016</td>\n",
       "      <td>1</td>\n",
       "      <td>280476.0</td>\n",
       "    </tr>\n",
       "  </tbody>\n",
       "</table>\n",
       "<p>2 rows × 45 columns</p>\n",
       "</div>"
      ],
      "text/plain": [
       "      can_id can_off can_off_sta  can_off_dis can_par_aff can_inc_cha_ope_sea  \\\n",
       "0  H2GA12121       H          GA         12.0         REP           INCUMBENT   \n",
       "3  H4MT01041       H          MT          0.0         REP           INCUMBENT   \n",
       "\n",
       "   ind_ite_con  ind_uni_con      ind_con par_com_con  ...  \\\n",
       "0   554305.00     46969.50    601274.50          NaN  ...   \n",
       "3  2479616.45   1837715.13   4317331.58   $3,545.32   ...   \n",
       "\n",
       "  cas_on_han_beg_of_per cas_on_han_clo_of_per     net_con  net_ope_exp  \\\n",
       "0              60109.57            175613.35   1074949.50   907156.21    \n",
       "3              83815.78            399122.61   4938943.74  5055942.15    \n",
       "\n",
       "   deb_owe_by_com deb_owe_to_com cov_sta_dat cov_end_dat winner     votes  \n",
       "0  $1,125,000.00             NaN    1/1/2015  10/19/2016      1  158708.0  \n",
       "3             NaN            NaN    1/1/2015  10/19/2016      1  280476.0  \n",
       "\n",
       "[2 rows x 45 columns]"
      ]
     },
     "execution_count": 12,
     "metadata": {},
     "output_type": "execute_result"
    }
   ],
   "source": [
    "#filling in NaN of non winners with N and then turning  winner and net_con into numerical value\n",
    "df['winner'] = df['winner'].fillna('N')\n",
    "df['winner'] = df['winner'].eq('Y').mul(1)\n",
    "df['net_con'] = pd.to_numeric(df['net_con'])\n",
    "df['cas_on_han_beg_of_per'] = pd.to_numeric(df['cas_on_han_beg_of_per'])\n",
    "\n",
    "df.head(2)"
   ]
  },
  {
   "cell_type": "code",
   "execution_count": 13,
   "metadata": {},
   "outputs": [
    {
     "name": "stdout",
     "output_type": "stream",
     "text": [
      "<class 'pandas.core.frame.DataFrame'>\n",
      "Int64Index: 659 entries, 0 to 1812\n",
      "Data columns (total 45 columns):\n",
      "can_id                   659 non-null object\n",
      "can_off                  659 non-null object\n",
      "can_off_sta              659 non-null object\n",
      "can_off_dis              658 non-null float64\n",
      "can_par_aff              658 non-null object\n",
      "can_inc_cha_ope_sea      658 non-null object\n",
      "ind_ite_con              633 non-null object\n",
      "ind_uni_con              625 non-null object\n",
      "ind_con                  644 non-null object\n",
      "par_com_con              195 non-null object\n",
      "oth_com_con              514 non-null object\n",
      "can_con                  136 non-null object\n",
      "tot_con                  658 non-null object\n",
      "tra_fro_oth_aut_com      195 non-null object\n",
      "can_loa                  118 non-null object\n",
      "oth_loa                  16 non-null object\n",
      "tot_loa                  123 non-null object\n",
      "off_to_ope_exp           437 non-null object\n",
      "off_to_fun               0 non-null object\n",
      "off_to_leg_acc           0 non-null object\n",
      "oth_rec                  334 non-null object\n",
      "tot_rec                  659 non-null object\n",
      "ope_exp                  656 non-null object\n",
      "exe_leg_acc_dis          1 non-null object\n",
      "fun_dis                  3 non-null object\n",
      "tra_to_oth_aut_com       103 non-null object\n",
      "can_loa_rep              94 non-null object\n",
      "oth_loa_rep              10 non-null object\n",
      "tot_loa_rep              97 non-null object\n",
      "ind_ref                  410 non-null object\n",
      "par_com_ref              15 non-null object\n",
      "oth_com_ref              238 non-null object\n",
      "tot_con_ref              441 non-null object\n",
      "oth_dis                  465 non-null object\n",
      "tot_dis                  657 non-null object\n",
      "cas_on_han_beg_of_per    659 non-null float64\n",
      "cas_on_han_clo_of_per    635 non-null object\n",
      "net_con                  659 non-null float64\n",
      "net_ope_exp              657 non-null object\n",
      "deb_owe_by_com           241 non-null object\n",
      "deb_owe_to_com           10 non-null object\n",
      "cov_sta_dat              659 non-null object\n",
      "cov_end_dat              659 non-null object\n",
      "winner                   659 non-null int64\n",
      "votes                    331 non-null float64\n",
      "dtypes: float64(4), int64(1), object(40)\n",
      "memory usage: 236.8+ KB\n"
     ]
    }
   ],
   "source": [
    "df.info()"
   ]
  },
  {
   "cell_type": "code",
   "execution_count": 14,
   "metadata": {},
   "outputs": [],
   "source": [
    "#separating out winners for viz\n",
    "allwin = df[df.winner == 1]\n",
    "swin = allwin[allwin.can_off == \"S\"]\n",
    "hwin = allwin[allwin.can_off == \"H\"]"
   ]
  },
  {
   "cell_type": "code",
   "execution_count": 15,
   "metadata": {},
   "outputs": [],
   "source": [
    "#net contributions of winning campaigns fir vuz\n",
    "allwcon = allwin['net_con']\n",
    "swcon = swin['net_con']\n",
    "hwcon = hwin['net_con']"
   ]
  },
  {
   "cell_type": "code",
   "execution_count": 16,
   "metadata": {},
   "outputs": [],
   "source": [
    "#cash on hand for winning campaigns\n",
    "allwcash = allwin['cas_on_han_beg_of_per']\n",
    "swcash = swin['cas_on_han_beg_of_per']\n",
    "hw = hwin['cas_on_han_beg_of_per'] "
   ]
  },
  {
   "cell_type": "code",
   "execution_count": 17,
   "metadata": {},
   "outputs": [],
   "source": [
    "#plots and EDA "
   ]
  },
  {
   "cell_type": "code",
   "execution_count": 18,
   "metadata": {},
   "outputs": [
    {
     "data": {
      "text/html": [
       "<div>\n",
       "<style scoped>\n",
       "    .dataframe tbody tr th:only-of-type {\n",
       "        vertical-align: middle;\n",
       "    }\n",
       "\n",
       "    .dataframe tbody tr th {\n",
       "        vertical-align: top;\n",
       "    }\n",
       "\n",
       "    .dataframe thead th {\n",
       "        text-align: right;\n",
       "    }\n",
       "</style>\n",
       "<table border=\"1\" class=\"dataframe\">\n",
       "  <thead>\n",
       "    <tr style=\"text-align: right;\">\n",
       "      <th></th>\n",
       "      <th>can_off_dis</th>\n",
       "      <th>cas_on_han_beg_of_per</th>\n",
       "      <th>net_con</th>\n",
       "      <th>winner</th>\n",
       "      <th>votes</th>\n",
       "    </tr>\n",
       "  </thead>\n",
       "  <tbody>\n",
       "    <tr>\n",
       "      <th>can_off_dis</th>\n",
       "      <td>1.000000</td>\n",
       "      <td>-0.068371</td>\n",
       "      <td>-0.050305</td>\n",
       "      <td>0.084460</td>\n",
       "      <td>-0.438207</td>\n",
       "    </tr>\n",
       "    <tr>\n",
       "      <th>cas_on_han_beg_of_per</th>\n",
       "      <td>-0.068371</td>\n",
       "      <td>1.000000</td>\n",
       "      <td>0.151955</td>\n",
       "      <td>0.205003</td>\n",
       "      <td>-0.018152</td>\n",
       "    </tr>\n",
       "    <tr>\n",
       "      <th>net_con</th>\n",
       "      <td>-0.050305</td>\n",
       "      <td>0.151955</td>\n",
       "      <td>1.000000</td>\n",
       "      <td>-0.014421</td>\n",
       "      <td>-0.062179</td>\n",
       "    </tr>\n",
       "    <tr>\n",
       "      <th>winner</th>\n",
       "      <td>0.084460</td>\n",
       "      <td>0.205003</td>\n",
       "      <td>-0.014421</td>\n",
       "      <td>1.000000</td>\n",
       "      <td>NaN</td>\n",
       "    </tr>\n",
       "    <tr>\n",
       "      <th>votes</th>\n",
       "      <td>-0.438207</td>\n",
       "      <td>-0.018152</td>\n",
       "      <td>-0.062179</td>\n",
       "      <td>NaN</td>\n",
       "      <td>1.000000</td>\n",
       "    </tr>\n",
       "  </tbody>\n",
       "</table>\n",
       "</div>"
      ],
      "text/plain": [
       "                       can_off_dis  cas_on_han_beg_of_per   net_con    winner  \\\n",
       "can_off_dis               1.000000              -0.068371 -0.050305  0.084460   \n",
       "cas_on_han_beg_of_per    -0.068371               1.000000  0.151955  0.205003   \n",
       "net_con                  -0.050305               0.151955  1.000000 -0.014421   \n",
       "winner                    0.084460               0.205003 -0.014421  1.000000   \n",
       "votes                    -0.438207              -0.018152 -0.062179       NaN   \n",
       "\n",
       "                          votes  \n",
       "can_off_dis           -0.438207  \n",
       "cas_on_han_beg_of_per -0.018152  \n",
       "net_con               -0.062179  \n",
       "winner                      NaN  \n",
       "votes                  1.000000  "
      ]
     },
     "execution_count": 18,
     "metadata": {},
     "output_type": "execute_result"
    }
   ],
   "source": [
    "correlations = df.corr()\n",
    "correlations.head()\n"
   ]
  },
  {
   "cell_type": "code",
   "execution_count": 21,
   "metadata": {},
   "outputs": [
    {
     "data": {
      "text/html": [
       "<div>\n",
       "<style scoped>\n",
       "    .dataframe tbody tr th:only-of-type {\n",
       "        vertical-align: middle;\n",
       "    }\n",
       "\n",
       "    .dataframe tbody tr th {\n",
       "        vertical-align: top;\n",
       "    }\n",
       "\n",
       "    .dataframe thead th {\n",
       "        text-align: right;\n",
       "    }\n",
       "</style>\n",
       "<table border=\"1\" class=\"dataframe\">\n",
       "  <thead>\n",
       "    <tr style=\"text-align: right;\">\n",
       "      <th></th>\n",
       "      <th>can_off_dis</th>\n",
       "      <th>cas_on_han_beg_of_per</th>\n",
       "      <th>net_con</th>\n",
       "      <th>winner</th>\n",
       "      <th>votes</th>\n",
       "    </tr>\n",
       "  </thead>\n",
       "  <tbody>\n",
       "    <tr>\n",
       "      <th>can_off_dis</th>\n",
       "      <td>1.000000</td>\n",
       "      <td>-0.068371</td>\n",
       "      <td>-0.050305</td>\n",
       "      <td>0.084460</td>\n",
       "      <td>-0.438207</td>\n",
       "    </tr>\n",
       "    <tr>\n",
       "      <th>cas_on_han_beg_of_per</th>\n",
       "      <td>-0.068371</td>\n",
       "      <td>1.000000</td>\n",
       "      <td>0.151955</td>\n",
       "      <td>0.205003</td>\n",
       "      <td>-0.018152</td>\n",
       "    </tr>\n",
       "    <tr>\n",
       "      <th>net_con</th>\n",
       "      <td>-0.050305</td>\n",
       "      <td>0.151955</td>\n",
       "      <td>1.000000</td>\n",
       "      <td>-0.014421</td>\n",
       "      <td>-0.062179</td>\n",
       "    </tr>\n",
       "    <tr>\n",
       "      <th>winner</th>\n",
       "      <td>0.084460</td>\n",
       "      <td>0.205003</td>\n",
       "      <td>-0.014421</td>\n",
       "      <td>1.000000</td>\n",
       "      <td>NaN</td>\n",
       "    </tr>\n",
       "    <tr>\n",
       "      <th>votes</th>\n",
       "      <td>-0.438207</td>\n",
       "      <td>-0.018152</td>\n",
       "      <td>-0.062179</td>\n",
       "      <td>NaN</td>\n",
       "      <td>1.000000</td>\n",
       "    </tr>\n",
       "  </tbody>\n",
       "</table>\n",
       "</div>"
      ],
      "text/plain": [
       "                       can_off_dis  cas_on_han_beg_of_per   net_con    winner  \\\n",
       "can_off_dis               1.000000              -0.068371 -0.050305  0.084460   \n",
       "cas_on_han_beg_of_per    -0.068371               1.000000  0.151955  0.205003   \n",
       "net_con                  -0.050305               0.151955  1.000000 -0.014421   \n",
       "winner                    0.084460               0.205003 -0.014421  1.000000   \n",
       "votes                    -0.438207              -0.018152 -0.062179       NaN   \n",
       "\n",
       "                          votes  \n",
       "can_off_dis           -0.438207  \n",
       "cas_on_han_beg_of_per -0.018152  \n",
       "net_con               -0.062179  \n",
       "winner                      NaN  \n",
       "votes                  1.000000  "
      ]
     },
     "execution_count": 21,
     "metadata": {},
     "output_type": "execute_result"
    }
   ],
   "source": [
    "correlations"
   ]
  },
  {
   "cell_type": "code",
   "execution_count": 24,
   "metadata": {},
   "outputs": [],
   "source": [
    "#Logistic regression modeling \n",
    "X = df.iloc[:,[35, 37]].values\n",
    "y = df.iloc[:, 43].values\n",
    "\n",
    "#train test split\n",
    "from sklearn.model_selection import train_test_split\n",
    "X_train, X_test, y_train, y_test = train_test_split(X, y, test_size = 0.2)"
   ]
  },
  {
   "cell_type": "code",
   "execution_count": 25,
   "metadata": {},
   "outputs": [],
   "source": [
    "# Feature Scaling\n",
    "from sklearn.preprocessing import StandardScaler\n",
    "sc = StandardScaler()\n",
    "X_train = sc.fit_transform(X_train)\n",
    "X_test = sc.transform(X_test)"
   ]
  },
  {
   "cell_type": "code",
   "execution_count": 26,
   "metadata": {},
   "outputs": [
    {
     "name": "stderr",
     "output_type": "stream",
     "text": [
      "/Users/michael/anaconda3/lib/python3.7/site-packages/sklearn/linear_model/logistic.py:432: FutureWarning: Default solver will be changed to 'lbfgs' in 0.22. Specify a solver to silence this warning.\n",
      "  FutureWarning)\n"
     ]
    },
    {
     "data": {
      "text/plain": [
       "LogisticRegression(C=1.0, class_weight=None, dual=False, fit_intercept=True,\n",
       "                   intercept_scaling=1, l1_ratio=None, max_iter=100,\n",
       "                   multi_class='warn', n_jobs=None, penalty='l2',\n",
       "                   random_state=None, solver='warn', tol=0.0001, verbose=0,\n",
       "                   warm_start=False)"
      ]
     },
     "execution_count": 26,
     "metadata": {},
     "output_type": "execute_result"
    }
   ],
   "source": [
    "# Fitting Logistic Regression to the Training set\n",
    "from sklearn.linear_model import LogisticRegression\n",
    "classifier = LogisticRegression()\n",
    "classifier.fit(X_train, y_train)"
   ]
  },
  {
   "cell_type": "code",
   "execution_count": 27,
   "metadata": {},
   "outputs": [],
   "source": [
    "# Predicting the Test set results\n",
    "y_pred = classifier.predict(X_test)"
   ]
  },
  {
   "cell_type": "code",
   "execution_count": 28,
   "metadata": {},
   "outputs": [],
   "source": [
    "# Making the Confusion Matrix\n",
    "from sklearn.metrics import confusion_matrix\n",
    "cm = confusion_matrix(y_test, y_pred)"
   ]
  },
  {
   "cell_type": "code",
   "execution_count": 29,
   "metadata": {},
   "outputs": [
    {
     "data": {
      "text/plain": [
       "<matplotlib.axes._subplots.AxesSubplot at 0x129859278>"
      ]
     },
     "execution_count": 29,
     "metadata": {},
     "output_type": "execute_result"
    },
    {
     "data": {
      "image/png": "[encoded data removed]",
      "text/plain": [
       "<Figure size 432x288 with 2 Axes>"
      ]
     },
     "metadata": {},
     "output_type": "display_data"
    }
   ],
   "source": [
    "#Viz matrix\n",
    "sn.set(font_scale=1.4)#for label size\n",
    "sn.heatmap(cm, annot=True,annot_kws={\"size\": 16})# font size"
   ]
  },
  {
   "cell_type": "code",
   "execution_count": 30,
   "metadata": {},
   "outputs": [
    {
     "name": "stderr",
     "output_type": "stream",
     "text": [
      "/Users/michael/anaconda3/lib/python3.7/site-packages/sklearn/linear_model/logistic.py:432: FutureWarning: Default solver will be changed to 'lbfgs' in 0.22. Specify a solver to silence this warning.\n",
      "  FutureWarning)\n",
      "/Users/michael/anaconda3/lib/python3.7/site-packages/sklearn/linear_model/logistic.py:432: FutureWarning: Default solver will be changed to 'lbfgs' in 0.22. Specify a solver to silence this warning.\n",
      "  FutureWarning)\n",
      "/Users/michael/anaconda3/lib/python3.7/site-packages/sklearn/linear_model/logistic.py:432: FutureWarning: Default solver will be changed to 'lbfgs' in 0.22. Specify a solver to silence this warning.\n",
      "  FutureWarning)\n"
     ]
    },
    {
     "data": {
      "text/plain": [
       "0.1134964189431525"
      ]
     },
     "execution_count": 30,
     "metadata": {},
     "output_type": "execute_result"
    }
   ],
   "source": [
    "# Applying k-Fold Cross Validation\n",
    "from sklearn.model_selection import cross_val_score\n",
    "accuracies = cross_val_score(estimator = classifier, X = X_train, y = y_train, cv = 3)\n",
    "acc = accuracies.mean() \n",
    "accuracies.std() "
   ]
  },
  {
   "cell_type": "code",
   "execution_count": 31,
   "metadata": {},
   "outputs": [],
   "source": [
    "#viz train and test results\n",
    "\n",
    "#Random forest classification modeling\n",
    "\n",
    "# Splitting the dataset into the Training set and Test set\n",
    "X_train_rf, X_test_rf, y_train_rf, y_test_rf = train_test_split(X, y, test_size = 0.2)"
   ]
  },
  {
   "cell_type": "code",
   "execution_count": 32,
   "metadata": {},
   "outputs": [],
   "source": [
    "# Feature Scaling\n",
    "#sc = StandardScaler()\n",
    "X_train_rf = sc.fit_transform(X_train_rf)\n",
    "X_test_rf = sc.transform(X_test_rf)"
   ]
  },
  {
   "cell_type": "code",
   "execution_count": 33,
   "metadata": {},
   "outputs": [
    {
     "data": {
      "text/plain": [
       "RandomForestClassifier(bootstrap=True, class_weight=None, criterion='entropy',\n",
       "                       max_depth=None, max_features='auto', max_leaf_nodes=None,\n",
       "                       min_impurity_decrease=0.0, min_impurity_split=None,\n",
       "                       min_samples_leaf=1, min_samples_split=2,\n",
       "                       min_weight_fraction_leaf=0.0, n_estimators=10,\n",
       "                       n_jobs=None, oob_score=False, random_state=None,\n",
       "                       verbose=0, warm_start=False)"
      ]
     },
     "execution_count": 33,
     "metadata": {},
     "output_type": "execute_result"
    }
   ],
   "source": [
    "# Fitting Random Forest Classification to the Training set\n",
    "from sklearn.ensemble import RandomForestClassifier\n",
    "classifier_rf = RandomForestClassifier(n_estimators = 10, criterion = 'entropy')\n",
    "classifier_rf.fit(X_train_rf, y_train_rf)"
   ]
  },
  {
   "cell_type": "code",
   "execution_count": 34,
   "metadata": {},
   "outputs": [],
   "source": [
    "# Predicting the Test set results\n",
    "y_pred_rf = classifier_rf.predict(X_test_rf)"
   ]
  },
  {
   "cell_type": "code",
   "execution_count": 35,
   "metadata": {},
   "outputs": [],
   "source": [
    "# Making the Confusion Matrix\n",
    "cm_rf = confusion_matrix(y_test_rf, y_pred_rf)"
   ]
  },
  {
   "cell_type": "code",
   "execution_count": 36,
   "metadata": {},
   "outputs": [
    {
     "data": {
      "text/plain": [
       "<matplotlib.axes._subplots.AxesSubplot at 0x129d01160>"
      ]
     },
     "execution_count": 36,
     "metadata": {},
     "output_type": "execute_result"
    },
    {
     "data": {
      "image/png": "[encoded data removed]",
      "text/plain": [
       "<Figure size 432x288 with 2 Axes>"
      ]
     },
     "metadata": {},
     "output_type": "display_data"
    }
   ],
   "source": [
    "#Viz matrix\n",
    "sn.set(font_scale=1.4)#for label size\n",
    "sn.heatmap(cm_rf, annot=True,annot_kws={\"size\": 16})# font size"
   ]
  },
  {
   "cell_type": "code",
   "execution_count": 37,
   "metadata": {},
   "outputs": [
    {
     "data": {
      "text/plain": [
       "0.014696851720984554"
      ]
     },
     "execution_count": 37,
     "metadata": {},
     "output_type": "execute_result"
    }
   ],
   "source": [
    "# Applying k-Fold Cross Validation\n",
    "accuracies_rf = cross_val_score(estimator = classifier_rf, X = X_train_rf, y = y_train_rf, cv = 3)\n",
    "acc_rf = accuracies_rf.mean() \n",
    "accuracies_rf.std() "
   ]
  },
  {
   "cell_type": "code",
   "execution_count": 38,
   "metadata": {},
   "outputs": [
    {
     "data": {
      "image/png": "[encoded data removed]",
      "text/plain": [
       "<Figure size 432x288 with 1 Axes>"
      ]
     },
     "metadata": {},
     "output_type": "display_data"
    }
   ],
   "source": [
    "#viz train and test results\n",
    "\n",
    "#Viz all the acc off k-folds\n",
    "\n",
    "obj = ['Logistic', 'Random Forest']\n",
    "y_pos = np.arange(len(obj))\n",
    "means = [acc, acc_rf]\n",
    "\n",
    " \n",
    "plt.bar(y_pos, means, align='center', alpha=0.5)\n",
    "plt.xticks(y_pos, obj)\n",
    "plt.ylabel('Mean of accuracies')\n",
    "plt.title('K-fold comparison across models')\n",
    " \n",
    "plt.show()"
   ]
  },
  {
   "cell_type": "code",
   "execution_count": null,
   "metadata": {},
   "outputs": [],
   "source": []
  },
  {
   "cell_type": "code",
   "execution_count": null,
   "metadata": {},
   "outputs": [],
   "source": []
  }
 ],
 "metadata": {
  "kernelspec": {
   "display_name": "Python 3",
   "language": "python",
   "name": "python3"
  },
  "language_info": {
   "codemirror_mode": {
    "name": "ipython",
    "version": 3
   },
   "file_extension": ".py",
   "mimetype": "text/x-python",
   "name": "python",
   "nbconvert_exporter": "python",
   "pygments_lexer": "ipython3",
   "version": "3.7.3"
  }
 },
 "nbformat": 4,
 "nbformat_minor": 2
}
